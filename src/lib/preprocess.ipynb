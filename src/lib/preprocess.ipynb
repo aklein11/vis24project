{
 "cells": [
  {
   "cell_type": "code",
   "execution_count": 44,
   "metadata": {},
   "outputs": [
    {
     "name": "stderr",
     "output_type": "stream",
     "text": [
      "/var/folders/3g/dkd_j4g50wv1bvsfzqwsn5n40000gn/T/ipykernel_10331/3636944033.py:13: UserWarning: Could not infer format, so each element will be parsed individually, falling back to `dateutil`. To ensure parsing is consistent and as-expected, please specify a format.\n",
      "  data['Date'] = pd.to_datetime(data['Date']).dt.date\n"
     ]
    },
    {
     "name": "stdout",
     "output_type": "stream",
     "text": [
      "Data has been successfully converted to JSON and saved to complaints_data.json\n"
     ]
    },
    {
     "name": "stderr",
     "output_type": "stream",
     "text": [
      "/var/folders/3g/dkd_j4g50wv1bvsfzqwsn5n40000gn/T/ipykernel_10331/3636944033.py:16: FutureWarning: A value is trying to be set on a copy of a DataFrame or Series through chained assignment using an inplace method.\n",
      "The behavior will change in pandas 3.0. This inplace method will never work because the intermediate object on which we are setting values always behaves as a copy.\n",
      "\n",
      "For example, when doing 'df[col].method(value, inplace=True)', try using 'df.method({col: value}, inplace=True)' or df[col] = df[col].method(value) instead, to perform the operation inplace on the original object.\n",
      "\n",
      "\n",
      "  data['Description (group)'].fillna('Unknown', inplace=True)\n"
     ]
    }
   ],
   "source": [
    "import pandas as pd\n",
    "\n",
    "# Path to the CSV file\n",
    "csv_file_path = '../../static/raw_time_complaints.csv'\n",
    "\n",
    "# Path to the JSON output file\n",
    "json_output_path = 'complaints_data.json'\n",
    "\n",
    "# Read the CSV file using pandas\n",
    "data = pd.read_csv(csv_file_path)\n",
    "\n",
    "# Convert 'Date' to datetime and extract just the date part for daily aggregation\n",
    "data['Date'] = pd.to_datetime(data['Date']).dt.date\n",
    "\n",
    "# Handle missing descriptions if any\n",
    "data['Description (group)'].fillna('Unknown', inplace=True)\n",
    "\n",
    "# Group the data by 'Date' and 'Description (group)', then count occurrences\n",
    "grouped_data = data.groupby(['Date', 'Description (group)']).size().reset_index(name='Count')\n",
    "\n",
    "# Pivot the data to have dates as rows and descriptions as columns, filling missing values with 0\n",
    "pivot_data = grouped_data.pivot(index='Date', columns='Description (group)', values='Count').fillna(0)\n",
    "\n",
    "# Compute cumulative sums over time\n",
    "cumulative_data = pivot_data.cumsum()\n",
    "\n",
    "# Reset index to make 'Date' a column again\n",
    "cumulative_data = cumulative_data.reset_index()\n",
    "\n",
    "# Convert 'Date' column to string format\n",
    "cumulative_data['Date'] = cumulative_data['Date'].astype(str)\n",
    "\n",
    "# Convert the DataFrame to JSON\n",
    "cumulative_data.to_json(json_output_path, orient='records')\n",
    "\n",
    "# Print a confirmation message\n",
    "print(f\"Data has been successfully converted to JSON and saved to {json_output_path}\")"
   ]
  },
  {
   "cell_type": "code",
   "execution_count": null,
   "metadata": {},
   "outputs": [],
   "source": []
  }
 ],
 "metadata": {
  "kernelspec": {
   "display_name": "Python 3",
   "language": "python",
   "name": "python3"
  },
  "language_info": {
   "codemirror_mode": {
    "name": "ipython",
    "version": 3
   },
   "file_extension": ".py",
   "mimetype": "text/x-python",
   "name": "python",
   "nbconvert_exporter": "python",
   "pygments_lexer": "ipython3",
   "version": "3.9.6"
  }
 },
 "nbformat": 4,
 "nbformat_minor": 2
}
